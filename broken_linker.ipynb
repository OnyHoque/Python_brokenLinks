{
 "cells": [
  {
   "cell_type": "code",
   "execution_count": null,
   "metadata": {},
   "outputs": [],
   "source": [
    "import requests\n",
    "from bs4 import BeautifulSoup"
   ]
  },
  {
   "cell_type": "code",
   "execution_count": null,
   "metadata": {},
   "outputs": [],
   "source": [
    "#include url with http/https\n",
    "url = \"\""
   ]
  },
  {
   "cell_type": "code",
   "execution_count": null,
   "metadata": {},
   "outputs": [],
   "source": [
    "page = requests.get(url)\n",
    "if page.status_code == 200:\n",
    "    print('URL good to go')"
   ]
  },
  {
   "cell_type": "code",
   "execution_count": null,
   "metadata": {},
   "outputs": [],
   "source": [
    "soup = BeautifulSoup(page.content, 'html.parser')\n",
    "a = soup.find_all(\"a\")\n",
    "print('total links found:'+str(len(a)))"
   ]
  },
  {
   "cell_type": "code",
   "execution_count": null,
   "metadata": {},
   "outputs": [],
   "source": [
    "for i in range(len(a)):\n",
    "    string = a[i]['href']\n",
    "    if string[0:4] != 'http':\n",
    "        link = url+string\n",
    "        try:\n",
    "            if requests.get(link).status_code != 200:\n",
    "                print(link,end='\\n\\n\\n')\n",
    "        except:\n",
    "            print(link)\n",
    "            pass\n",
    "    else:\n",
    "        link = string\n",
    "        try:\n",
    "            if requests.get(link).status_code != 200:\n",
    "                print(link,end='\\n\\n\\n')\n",
    "        except:\n",
    "            print(link)\n",
    "            pass"
   ]
  }
 ],
 "metadata": {
  "kernelspec": {
   "display_name": "Python 3",
   "language": "python",
   "name": "python3"
  },
  "language_info": {
   "codemirror_mode": {
    "name": "ipython",
    "version": 3
   },
   "file_extension": ".py",
   "mimetype": "text/x-python",
   "name": "python",
   "nbconvert_exporter": "python",
   "pygments_lexer": "ipython3",
   "version": "3.7.1"
  }
 },
 "nbformat": 4,
 "nbformat_minor": 2
}
